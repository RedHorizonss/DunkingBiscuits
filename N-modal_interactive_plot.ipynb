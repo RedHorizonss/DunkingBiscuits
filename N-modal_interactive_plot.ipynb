{
 "cells": [
  {
   "cell_type": "code",
   "execution_count": 2,
   "metadata": {},
   "outputs": [],
   "source": [
    "from biscuit_functions import *\n",
    "from ipywidgets import interactive, FloatSlider\n",
    "from scipy.signal import find_peaks"
   ]
  },
  {
   "cell_type": "code",
   "execution_count": 3,
   "metadata": {},
   "outputs": [],
   "source": [
    "dunky_df = pd.read_csv('datasets/dunking-data.csv')\n",
    "dunky_df = washburn_eqn(dunky_df)"
   ]
  },
  {
   "cell_type": "code",
   "execution_count": 6,
   "metadata": {},
   "outputs": [],
   "source": [
    "max_bin, min_bin, bw_steps = 1.0, 0.1, 0.01\n",
    "min_tolerance, max_tolerance, tolerance_steps = 1e6, 4.5e6, 0.5e6\n",
    "\n",
    "bw_values = np.arange(min_bin, max_bin + bw_steps, bw_steps)\n",
    "tolerance_values = np.arange(min_tolerance, max_tolerance + tolerance_steps, tolerance_steps)"
   ]
  },
  {
   "cell_type": "code",
   "execution_count": 9,
   "metadata": {},
   "outputs": [],
   "source": [
    "def get_all_peak_tol_evolutions(datapoints, bw_values):\n",
    "    store_all_evolutions = {}\n",
    "\n",
    "    for tol in tolerance_values:\n",
    "        store_all_evolutions[tol] = follow_peak_evolution(datapoints, bw_values, tol)\n",
    "        \n",
    "    return store_all_evolutions\n",
    "\n",
    "storage_oftols = {}\n",
    "for biscuit in dunky_df['biscuit'].unique():\n",
    "    datapoints = dunky_df[dunky_df['biscuit'] == biscuit]['washburn_eqn']\n",
    "    storage_oftols[biscuit] = get_all_peak_tol_evolutions(datapoints, bw_values)"
   ]
  },
  {
   "cell_type": "code",
   "execution_count": 7,
   "metadata": {},
   "outputs": [],
   "source": [
    "def kde_max_min_limits(datapoints):\n",
    "    max_bin_density = sns.kdeplot(datapoints, bw_adjust=max_bin).get_lines()[0].get_data()\n",
    "    min_bin_density = sns.kdeplot(datapoints, bw_adjust=min_bin).get_lines()[1].get_data()\n",
    "\n",
    "    all_y_density = np.concatenate((max_bin_density[1], min_bin_density[1]))\n",
    "    all_x_density = np.concatenate((max_bin_density[0], min_bin_density[0]))\n",
    "    plt.close()\n",
    "    \n",
    "    return all_x_density, all_y_density\n",
    "\n",
    "def tol_min_max_limits(biscuit_type):\n",
    "    min_max = np.concatenate((storage_oftols[biscuit_type][min_tolerance], storage_oftols[biscuit_type][max_tolerance]))\n",
    "    return min(min_max[:, 0]), max(min_max[:, 0])"
   ]
  },
  {
   "cell_type": "code",
   "execution_count": 8,
   "metadata": {},
   "outputs": [
    {
     "data": {
      "application/vnd.jupyter.widget-view+json": {
       "model_id": "7c9013d44c98426d9abdb80751e0c7ca",
       "version_major": 2,
       "version_minor": 0
      },
      "text/plain": [
       "interactive(children=(Dropdown(description='biscuit_type', options=('Digestive', 'Hobnob', 'Rich Tea'), value=…"
      ]
     },
     "execution_count": 8,
     "metadata": {},
     "output_type": "execute_result"
    }
   ],
   "source": [
    "def bandwidth_widget(biscuit_type = 'Digestive', bw=1, tolerance = 1e6):\n",
    "    datapoints = dunky_df[dunky_df['biscuit'] == biscuit_type]['washburn_eqn']\n",
    "    x_peaks, y_peaks = get_peaks(datapoints, bw, tolerance)\n",
    "    all_x_density, all_y_density = kde_max_min_limits(datapoints)\n",
    "    sns.kdeplot(datapoints, bw_adjust=bw, lw = 3, fill=True, label=F'KDE bw: {bw:.3f}')\n",
    "    plt.scatter(x_peaks, y_peaks, color='red')\n",
    "    \n",
    "    plt.xlim(min(all_x_density)*0.995, max(all_x_density)*1.005)\n",
    "    plt.ylim(0, max(all_y_density)*1.05)\n",
    "    \n",
    "    plt.xlabel('Average Pore Radius / m')\n",
    "    \n",
    "    plt.legend(loc='upper right', fontsize='small')\n",
    "    plt.show()\n",
    "    \n",
    "interactive(bandwidth_widget, biscuit_type = ['Digestive', 'Hobnob', 'Rich Tea'], bw=(min_bin, max_bin, bw_steps), \n",
    "            tolerance=(FloatSlider(min=min_tolerance, max=max_tolerance, step=tolerance_steps, readout_format='.2e')))"
   ]
  },
  {
   "cell_type": "code",
   "execution_count": 10,
   "metadata": {},
   "outputs": [
    {
     "data": {
      "application/vnd.jupyter.widget-view+json": {
       "model_id": "90f9311f3f3f472481b7cf385be72e5f",
       "version_major": 2,
       "version_minor": 0
      },
      "text/plain": [
       "interactive(children=(Dropdown(description='biscuit_type', options=('Digestive', 'Hobnob', 'Rich Tea'), value=…"
      ]
     },
     "execution_count": 10,
     "metadata": {},
     "output_type": "execute_result"
    }
   ],
   "source": [
    "def peak_evolution_widget(biscuit_type = 'Digestive', bw = 0.5, tolerance = 1e6):\n",
    "    evolutions = storage_oftols[biscuit_type][tolerance]\n",
    "    evolution_under_bw = evolutions[evolutions[:,1] <= bw]\n",
    "    x_min, x_max = tol_min_max_limits(biscuit_type)\n",
    "\n",
    "    plt.scatter(evolutions[:,0], evolutions[:,1], label=F'Tol: {tolerance:.2e}', alpha=0.5, color='grey')\n",
    "    plt.scatter(evolution_under_bw[:,0], evolution_under_bw[:,1], label=F'Under BW: {bw:.2f}')\n",
    "    \n",
    "    plt.axhline(y=bw, color=palette[0], linestyle='--', linewidth=2.5)\n",
    "    \n",
    "    plt.xlim(x_min*0.995, x_max*1.005)\n",
    "    plt.ylim(min(bw_values), max(bw_values)*1.05)\n",
    "    \n",
    "    plt.xlabel('Pore Radius Value/ m')\n",
    "    plt.ylabel('Bandwidth Value')\n",
    "    \n",
    "    plt.legend(loc='upper right', fontsize='small')\n",
    "    plt.show()\n",
    "    \n",
    "interactive(peak_evolution_widget, biscuit_type = ['Digestive', 'Hobnob', 'Rich Tea'], bw=(min_bin, max_bin, bw_steps),\n",
    "            tolerance=(FloatSlider(min=min_tolerance, max=max_tolerance, step=tolerance_steps, readout_format='.2e')))"
   ]
  }
 ],
 "metadata": {
  "kernelspec": {
   "display_name": ".venv",
   "language": "python",
   "name": "python3"
  },
  "language_info": {
   "codemirror_mode": {
    "name": "ipython",
    "version": 3
   },
   "file_extension": ".py",
   "mimetype": "text/x-python",
   "name": "python",
   "nbconvert_exporter": "python",
   "pygments_lexer": "ipython3",
   "version": "3.11.2"
  }
 },
 "nbformat": 4,
 "nbformat_minor": 2
}
